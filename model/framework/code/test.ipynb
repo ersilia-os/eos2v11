{
 "cells": [
  {
   "cell_type": "code",
   "execution_count": 4,
   "id": "9580b8d5",
   "metadata": {},
   "outputs": [],
   "source": [
    "import requests\n",
    "import csv"
   ]
  },
  {
   "cell_type": "code",
   "execution_count": 5,
   "id": "f822d8e7",
   "metadata": {},
   "outputs": [],
   "source": [
    "# parse arguments\n",
    "input_file = \"../examples/run_input.csv\"\n",
    "output_file = \"../examples/run_output_v2.csv\"\n",
    "\n",
    "# read smiles list\n",
    "smiles_list = []\n",
    "with open(input_file, \"r\") as f:\n",
    "    reader = csv.reader(f)\n",
    "    next(reader)\n",
    "    for r in reader:\n",
    "        smiles_list += [r[0]]"
   ]
  },
  {
   "cell_type": "code",
   "execution_count": 6,
   "id": "f0649e64",
   "metadata": {},
   "outputs": [
    {
     "data": {
      "text/plain": [
       "['COC(=O)[C@@H](N)CS',\n",
       " 'CCCCNc1ccc(cc1)C(=O)OCCOCCOCCOCCOCCOCCOCCOCCOCCOC',\n",
       " 'CCOCCOC(=O)\\\\C=C\\\\c1ccc(OC)cc1']"
      ]
     },
     "execution_count": 6,
     "metadata": {},
     "output_type": "execute_result"
    }
   ],
   "source": [
    "smiles_list"
   ]
  },
  {
   "cell_type": "code",
   "execution_count": 82,
   "id": "23de8126",
   "metadata": {},
   "outputs": [
    {
     "name": "stdout",
     "output_type": "stream",
     "text": [
      "<Response [500]>\n"
     ]
    }
   ],
   "source": [
    "import requests\n",
    "\n",
    "baseUrl = 'https://admetlab3.scbdd.com'\n",
    "\n",
    "if __name__ == '__main__':\n",
    "    api = '/api/single/admet'\n",
    "    url = baseUrl + api\n",
    "    param = {'SMILES': \"CCC\"}\n",
    "\n",
    "    response = requests.post(url, json=param)\n",
    "    print(response)\n",
    "    if response.status_code == 200:\n",
    "        data = response.json()['data']\n",
    "        print(data)\n"
   ]
  },
  {
   "cell_type": "code",
   "execution_count": 83,
   "id": "5d68ccc2",
   "metadata": {},
   "outputs": [
    {
     "data": {
      "text/plain": [
       "'Internal Server Error'"
      ]
     },
     "execution_count": 83,
     "metadata": {},
     "output_type": "execute_result"
    }
   ],
   "source": [
    "response.reason"
   ]
  }
 ],
 "metadata": {
  "kernelspec": {
   "display_name": "eos2v11",
   "language": "python",
   "name": "python3"
  },
  "language_info": {
   "codemirror_mode": {
    "name": "ipython",
    "version": 3
   },
   "file_extension": ".py",
   "mimetype": "text/x-python",
   "name": "python",
   "nbconvert_exporter": "python",
   "pygments_lexer": "ipython3",
   "version": "3.7.16"
  }
 },
 "nbformat": 4,
 "nbformat_minor": 5
}
