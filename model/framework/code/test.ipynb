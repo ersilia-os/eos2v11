{
 "cells": [
  {
   "cell_type": "code",
   "execution_count": 1,
   "id": "9580b8d5",
   "metadata": {},
   "outputs": [],
   "source": [
    "import requests\n",
    "import csv"
   ]
  },
  {
   "cell_type": "code",
   "execution_count": 2,
   "id": "f822d8e7",
   "metadata": {},
   "outputs": [],
   "source": [
    "# parse arguments\n",
    "input_file = \"../examples/run_input.csv\"\n",
    "output_file = \"../examples/run_output_v2.csv\"\n",
    "\n",
    "# read smiles list\n",
    "smiles_list = []\n",
    "with open(input_file, \"r\") as f:\n",
    "    reader = csv.reader(f)\n",
    "    next(reader)\n",
    "    for r in reader:\n",
    "        smiles_list += [r[0]]"
   ]
  },
  {
   "cell_type": "code",
   "execution_count": 3,
   "id": "f0649e64",
   "metadata": {},
   "outputs": [
    {
     "data": {
      "text/plain": [
       "['COC(=O)[C@@H](N)CS',\n",
       " 'CCCCNc1ccc(cc1)C(=O)OCCOCCOCCOCCOCCOCCOCCOCCOCCOC',\n",
       " 'CCOCCOC(=O)\\\\C=C\\\\c1ccc(OC)cc1']"
      ]
     },
     "execution_count": 3,
     "metadata": {},
     "output_type": "execute_result"
    }
   ],
   "source": [
    "smiles_list"
   ]
  },
  {
   "cell_type": "code",
   "execution_count": 7,
   "id": "a0d23d70",
   "metadata": {},
   "outputs": [
    {
     "name": "stdout",
     "output_type": "stream",
     "text": [
      "Status: 400\n",
      "Response: {\"detail\": \"Cannot parse request body (Expecting value: line 1 column 1 (char 0))\"}\n"
     ]
    }
   ],
   "source": [
    "import requests\n",
    "\n",
    "baseUrl = 'https://admetlab3.scbdd.com'\n",
    "api = '/api/admetCSV'\n",
    "url = baseUrl + api\n",
    "with open(\"tmp.csv\", \"w\") as f:\n",
    "    writer = csv.writer(f)\n",
    "    writer.writerow([\"SMILES\"])\n",
    "    for s in smiles_list:\n",
    "        writer.writerow([s])\n",
    "\n",
    "# Open the file in binary mode and upload it\n",
    "with open(\"tmp.csv\", \"rb\") as f:\n",
    "    files = {'file': (\"tmp.csv\", f, \"text/csv\")}\n",
    "    response = requests.post(url, files=files)\n",
    "\n",
    "print(\"Status:\", response.status_code)\n",
    "print(\"Response:\", response.text)"
   ]
  },
  {
   "cell_type": "code",
   "execution_count": null,
   "id": "9c121d4c",
   "metadata": {},
   "outputs": [
    {
     "name": "stdout",
     "output_type": "stream",
     "text": [
      "Status: 500\n",
      "Raw Response: Traceback (most recent call last):\n",
      "  File \"/root/miniconda3/envs/admetlab3/lib/python3.9/site-packages/ninja/operation.py\", line 107, in run\n",
      "    result = self.view_func(request, **values)\n",
      "  File \"/home/websites/admetlab3/admetlab3-backend/service/api.py\", line 293, in calSingleSMILES\n",
      "    tmp_dataframe = (result[columns])\n",
      "  File \"/root/miniconda3/envs/admetlab3/lib/python3.9/site-packages/pandas/core/frame.py\", line 3899, in __getitem__\n",
      "    indexer = self.columns._get_indexer_strict(key, \"columns\")[1]\n",
      "  File \"/root/miniconda3/envs/admetlab3/lib/python3.9/site-packages/pandas/core/indexes/base.py\", line 6115, in _get_indexer_strict\n",
      "    self._raise_if_missing(keyarr, indexer, axis_name)\n",
      "  File \"/root/miniconda3/envs/admetlab3/lib/python3.9/site-packages/pandas/core/indexes/base.py\", line 6179, in _raise_if_missing\n",
      "    raise KeyError(f\"{not_found} not in index\")\n",
      "KeyError: \"['BSEP'] not in index\"\n",
      "\n"
     ]
    }
   ],
   "source": [
    "\n",
    "import requests\n",
    "\n",
    "url = 'https://admetlab3.scbdd.com/api/single/admet'\n",
    "param = {'SMILES': \"CC(C)OC(=O)CC(=O)CSc1nc2c(cc1C#N)CCC2\"}\n",
    "\n",
    "response = requests.post(url, json=param)\n",
    "\n",
    "print(\"Status:\", response.status_code)\n",
    "print(\"Raw Response:\", response.text)\n",
    "\n",
    "if response.status_code == 200:\n",
    "    try:\n",
    "        data = response.json()\n",
    "        print(\"Prediction:\", data.get('data', data))\n",
    "    except Exception as e:\n",
    "        print(\"JSON parsing error:\", e)"
   ]
  },
  {
   "cell_type": "code",
   "execution_count": 82,
   "id": "23de8126",
   "metadata": {},
   "outputs": [
    {
     "name": "stdout",
     "output_type": "stream",
     "text": [
      "<Response [500]>\n"
     ]
    }
   ],
   "source": [
    "import requests\n",
    "\n",
    "baseUrl = 'https://admetlab3.scbdd.com'\n",
    "\n",
    "if __name__ == '__main__':\n",
    "    api = '/api/single/admet'\n",
    "    url = baseUrl + api\n",
    "    param = {'SMILES': \"CCC\"}\n",
    "\n",
    "    response = requests.post(url, json=param)\n",
    "    print(response)\n",
    "    if response.status_code == 200:\n",
    "        data = response.json()['data']\n",
    "        print(data)\n"
   ]
  },
  {
   "cell_type": "code",
   "execution_count": 25,
   "id": "5d68ccc2",
   "metadata": {},
   "outputs": [
    {
     "name": "stdout",
     "output_type": "stream",
     "text": [
      "200\n"
     ]
    },
    {
     "ename": "TypeError",
     "evalue": "'NoneType' object is not subscriptable",
     "output_type": "error",
     "traceback": [
      "\u001b[31m---------------------------------------------------------------------------\u001b[39m",
      "\u001b[31mTypeError\u001b[39m                                 Traceback (most recent call last)",
      "\u001b[36mCell\u001b[39m\u001b[36m \u001b[39m\u001b[32mIn[25]\u001b[39m\u001b[32m, line 49\u001b[39m\n\u001b[32m     47\u001b[39m data = response.json()\n\u001b[32m     48\u001b[39m \u001b[38;5;66;03m# transform to csv file\u001b[39;00m\n\u001b[32m---> \u001b[39m\u001b[32m49\u001b[39m result = \u001b[43mtransform\u001b[49m\u001b[43m(\u001b[49m\u001b[43mdata\u001b[49m\u001b[43m)\u001b[49m\n\u001b[32m     50\u001b[39m result.to_csv(\u001b[33m'\u001b[39m\u001b[33mresult\u001b[39m\u001b[33m'\u001b[39m + \u001b[38;5;28mstr\u001b[39m(_) + \u001b[33m'\u001b[39m\u001b[33m.csv\u001b[39m\u001b[33m'\u001b[39m, index=\u001b[38;5;28;01mFalse\u001b[39;00m)\n",
      "\u001b[36mCell\u001b[39m\u001b[36m \u001b[39m\u001b[32mIn[25]\u001b[39m\u001b[32m, line 11\u001b[39m, in \u001b[36mtransform\u001b[39m\u001b[34m(data)\u001b[39m\n\u001b[32m      9\u001b[39m \u001b[38;5;28;01mdef\u001b[39;00m\u001b[38;5;250m \u001b[39m\u001b[34mtransform\u001b[39m(data):\n\u001b[32m     10\u001b[39m     resultList = []\n\u001b[32m---> \u001b[39m\u001b[32m11\u001b[39m     \u001b[38;5;28;01mfor\u001b[39;00m mol \u001b[38;5;129;01min\u001b[39;00m \u001b[43mdata\u001b[49m\u001b[43m[\u001b[49m\u001b[33;43m'\u001b[39;49m\u001b[33;43mdata\u001b[39;49m\u001b[33;43m'\u001b[39;49m\u001b[43m]\u001b[49m:\n\u001b[32m     12\u001b[39m         \u001b[38;5;28;01mif\u001b[39;00m \u001b[38;5;129;01mnot\u001b[39;00m mol[\u001b[33m'\u001b[39m\u001b[33mdata\u001b[39m\u001b[33m'\u001b[39m]:\n\u001b[32m     13\u001b[39m             \u001b[38;5;66;03m# Invalid SMILES\u001b[39;00m\n\u001b[32m     14\u001b[39m             tmp = {\u001b[33m'\u001b[39m\u001b[33msmiles\u001b[39m\u001b[33m'\u001b[39m: mol[\u001b[33m'\u001b[39m\u001b[33msmiles\u001b[39m\u001b[33m'\u001b[39m]}\n",
      "\u001b[31mTypeError\u001b[39m: 'NoneType' object is not subscriptable"
     ]
    }
   ],
   "source": [
    "import json\n",
    "\n",
    "import requests\n",
    "import pandas as pd\n",
    "\n",
    "baseUrl = 'https://admetlab3.scbdd.com'\n",
    "\n",
    "\n",
    "def transform(data):\n",
    "    resultList = []\n",
    "    for mol in data['data']:\n",
    "        if not mol['data']:\n",
    "            # Invalid SMILES\n",
    "            tmp = {'smiles': mol['smiles']}\n",
    "        else:\n",
    "            tmp = dict({'smiles': mol['smiles']})\n",
    "            for _, admet in mol['data'].items():\n",
    "                for endpoint in admet:\n",
    "                    # endpoint is a dict\n",
    "                    tmp[endpoint['name']] = endpoint['value']\n",
    "        resultList.append(tmp)\n",
    "    return pd.DataFrame(resultList).fillna('Invalid SMILES')\n",
    "\n",
    "\n",
    "def divide_list(lst, n):\n",
    "    for i in range(0, len(lst), n):\n",
    "        yield lst[i:i + n]\n",
    "\n",
    "\n",
    "\n",
    "api = '/api/admetCSV'\n",
    "url = baseUrl + api\n",
    "param = {\n",
    "    'SMILES': []\n",
    "}\n",
    "n = 1000\n",
    "smiles_list = ['CN1C2CCC1CC(OC(=O)c1cccn1C)C2', 'O=C(O)Nc1scnc1C(=O)Nc1nccs1',\n",
    "                'COc1ccc(C=C(F)C(=O)c2cc(OC)c(OC)c(OC)c2)cc1'] * 25\n",
    "\n",
    "for _, sublist in enumerate(divide_list(smiles_list, n)):\n",
    "    param['SMILES'] = sublist\n",
    "\n",
    "    response = requests.post(url, json=param)\n",
    "    print(response.status_code)\n",
    "\n",
    "    if response.status_code == 200:  # If access is successful\n",
    "        data = response.json()\n",
    "        # transform to csv file\n",
    "        result = transform(data)\n",
    "        result.to_csv('result' + str(_) + '.csv', index=False)\n"
   ]
  },
  {
   "cell_type": "code",
   "execution_count": 28,
   "id": "d59d6e1d",
   "metadata": {},
   "outputs": [
    {
     "data": {
      "text/plain": [
       "'null'"
      ]
     },
     "execution_count": 28,
     "metadata": {},
     "output_type": "execute_result"
    }
   ],
   "source": [
    "response.text"
   ]
  },
  {
   "cell_type": "code",
   "execution_count": null,
   "id": "c95342ec",
   "metadata": {},
   "outputs": [],
   "source": []
  }
 ],
 "metadata": {
  "kernelspec": {
   "display_name": "chem",
   "language": "python",
   "name": "python3"
  },
  "language_info": {
   "codemirror_mode": {
    "name": "ipython",
    "version": 3
   },
   "file_extension": ".py",
   "mimetype": "text/x-python",
   "name": "python",
   "nbconvert_exporter": "python",
   "pygments_lexer": "ipython3",
   "version": "3.12.9"
  }
 },
 "nbformat": 4,
 "nbformat_minor": 5
}
